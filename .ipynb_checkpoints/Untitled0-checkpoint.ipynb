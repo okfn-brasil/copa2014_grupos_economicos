{
 "metadata": {
  "name": "",
  "signature": "sha256:c1135abbda889451144b0f92f4f70fa7b3632dd83523454780a8aac9b4de01ed"
 },
 "nbformat": 3,
 "nbformat_minor": 0,
 "worksheets": []
}